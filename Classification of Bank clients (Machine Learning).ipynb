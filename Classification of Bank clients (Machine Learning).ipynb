{
  "nbformat": 4,
  "nbformat_minor": 0,
  "metadata": {
    "ExecuteTimeLog": [
      {
        "duration": 4487,
        "start_time": "2021-10-23T09:04:02.676Z"
      },
      {
        "duration": 3,
        "start_time": "2021-10-23T09:05:33.798Z"
      },
      {
        "duration": 55881,
        "start_time": "2021-10-23T09:05:54.349Z"
      }
    ],
    "kernelspec": {
      "display_name": "Python 3",
      "language": "python",
      "name": "python3"
    },
    "language_info": {
      "codemirror_mode": {
        "name": "ipython",
        "version": 3
      },
      "file_extension": ".py",
      "mimetype": "text/x-python",
      "name": "python",
      "nbconvert_exporter": "python",
      "pygments_lexer": "ipython3",
      "version": "3.7.8"
    },
    "toc": {
      "base_numbering": 1,
      "nav_menu": {},
      "number_sections": true,
      "sideBar": true,
      "skip_h1_title": true,
      "title_cell": "Table of Contents",
      "title_sidebar": "Contents",
      "toc_cell": false,
      "toc_position": {},
      "toc_section_display": true,
      "toc_window_display": false
    },
    "colab": {
      "name": "Определение класса для клиентов банка (Машинное обучение).ipynb",
      "provenance": []
    }
  },
  "cells": [
    {
      "cell_type": "markdown",
      "metadata": {
        "id": "0aXS78r4c9jZ"
      },
      "source": [
        "# Отток клиентов"
      ]
    },
    {
      "cell_type": "markdown",
      "metadata": {
        "id": "TV4K_nEFc9ja"
      },
      "source": [
        "Из «Бета-Банка» стали уходить клиенты. Каждый месяц. Немного, но заметно. Банковские маркетологи посчитали: сохранять текущих клиентов дешевле, чем привлекать новых.\n",
        "\n",
        "Нужно спрогнозировать, уйдёт клиент из банка в ближайшее время или нет. Вам предоставлены исторические данные о поведении клиентов и расторжении договоров с банком. \n",
        "\n",
        "Постройте модель с предельно большим значением *F1*-меры. Чтобы сдать проект успешно, нужно довести метрику до 0.59. Проверьте *F1*-меру на тестовой выборке самостоятельно.\n",
        "\n",
        "Дополнительно измеряйте *AUC-ROC*, сравнивайте её значение с *F1*-мерой.\n",
        "\n",
        "Источник данных: [https://www.kaggle.com/barelydedicated/bank-customer-churn-modeling](https://www.kaggle.com/barelydedicated/bank-customer-churn-modeling)"
      ]
    },
    {
      "cell_type": "markdown",
      "metadata": {
        "id": "EbTulRbHc9jb"
      },
      "source": [
        "# 1. Подготовка данных"
      ]
    },
    {
      "cell_type": "code",
      "metadata": {
        "scrolled": false,
        "id": "P9KJAY-ic9jc",
        "outputId": "1f344817-e9ea-4eb7-e6f2-8c04b40cc5d1"
      },
      "source": [
        "import pandas as pd\n",
        "pd.options.mode.chained_assignment = None  # default='warn'\n",
        "\n",
        "\n",
        "data = pd.read_csv('/datasets/Churn.csv') # Создаем исходную выборку\n",
        "data.info()\n",
        "data.head(5)\n",
        "\n",
        "data['Exited'].hist()"
      ],
      "execution_count": null,
      "outputs": [
        {
          "name": "stdout",
          "output_type": "stream",
          "text": [
            "<class 'pandas.core.frame.DataFrame'>\n",
            "RangeIndex: 10000 entries, 0 to 9999\n",
            "Data columns (total 14 columns):\n",
            "RowNumber          10000 non-null int64\n",
            "CustomerId         10000 non-null int64\n",
            "Surname            10000 non-null object\n",
            "CreditScore        10000 non-null int64\n",
            "Geography          10000 non-null object\n",
            "Gender             10000 non-null object\n",
            "Age                10000 non-null int64\n",
            "Tenure             9091 non-null float64\n",
            "Balance            10000 non-null float64\n",
            "NumOfProducts      10000 non-null int64\n",
            "HasCrCard          10000 non-null int64\n",
            "IsActiveMember     10000 non-null int64\n",
            "EstimatedSalary    10000 non-null float64\n",
            "Exited             10000 non-null int64\n",
            "dtypes: float64(3), int64(8), object(3)\n",
            "memory usage: 1.1+ MB\n"
          ]
        },
        {
          "data": {
            "text/plain": [
              "<matplotlib.axes._subplots.AxesSubplot at 0x7fb0eb9d8910>"
            ]
          },
          "execution_count": 2,
          "metadata": {},
          "output_type": "execute_result"
        },
        {
          "data": {
            "image/png": "[encoded data removed]",
            "text/plain": [
              "<Figure size 432x288 with 1 Axes>"
            ]
          },
          "metadata": {
            "needs_background": "light"
          },
          "output_type": "display_data"
        }
      ]
    },
    {
      "cell_type": "markdown",
      "metadata": {
        "id": "NbNnQzwzc9jd"
      },
      "source": [
        "### Промежуточный вывод\n",
        "- Исходные данные прочитаны \n",
        "- Размер исходных данных: (10.000 строк на 14 колонок)\n",
        "- Пропуски в стобце Tenure \n",
        "- Не нужные для целей анализа столбцы RowNumber, CustomerID, Surname\n",
        "- Требуется прямое кодирование (OHE) в столбцах Geography и  Gender\n",
        "- Требуется масштабирование\n",
        "- явный дисбаланс классов "
      ]
    },
    {
      "cell_type": "code",
      "metadata": {
        "scrolled": false,
        "id": "IWg7WNbic9je",
        "outputId": "09718db7-64b6-4199-b132-7dc671dd4f05"
      },
      "source": [
        "data['Tenure'] = data['Tenure'].fillna(data['Tenure'].median()) # Заполняем пропуски медианой\n",
        "data = data.drop(['RowNumber', 'CustomerId', 'Surname'], axis = 1) # Убираем ненужные столбцы \n",
        "data_ohe = pd.get_dummies(data, drop_first = True) # Преобразовываем категориальные признаки в численные при помощи OHE\n",
        "\n",
        "data_ohe.info()\n",
        "data_ohe.head(5)\n"
      ],
      "execution_count": null,
      "outputs": [
        {
          "name": "stdout",
          "output_type": "stream",
          "text": [
            "<class 'pandas.core.frame.DataFrame'>\n",
            "RangeIndex: 10000 entries, 0 to 9999\n",
            "Data columns (total 12 columns):\n",
            "CreditScore          10000 non-null int64\n",
            "Age                  10000 non-null int64\n",
            "Tenure               10000 non-null float64\n",
            "Balance              10000 non-null float64\n",
            "NumOfProducts        10000 non-null int64\n",
            "HasCrCard            10000 non-null int64\n",
            "IsActiveMember       10000 non-null int64\n",
            "EstimatedSalary      10000 non-null float64\n",
            "Exited               10000 non-null int64\n",
            "Geography_Germany    10000 non-null uint8\n",
            "Geography_Spain      10000 non-null uint8\n",
            "Gender_Male          10000 non-null uint8\n",
            "dtypes: float64(3), int64(6), uint8(3)\n",
            "memory usage: 732.5 KB\n"
          ]
        },
        {
          "data": {
            "text/html": [
              "<div>\n",
              "<style scoped>\n",
              "    .dataframe tbody tr th:only-of-type {\n",
              "        vertical-align: middle;\n",
              "    }\n",
              "\n",
              "    .dataframe tbody tr th {\n",
              "        vertical-align: top;\n",
              "    }\n",
              "\n",
              "    .dataframe thead th {\n",
              "        text-align: right;\n",
              "    }\n",
              "</style>\n",
              "<table border=\"1\" class=\"dataframe\">\n",
              "  <thead>\n",
              "    <tr style=\"text-align: right;\">\n",
              "      <th></th>\n",
              "      <th>CreditScore</th>\n",
              "      <th>Age</th>\n",
              "      <th>Tenure</th>\n",
              "      <th>Balance</th>\n",
              "      <th>NumOfProducts</th>\n",
              "      <th>HasCrCard</th>\n",
              "      <th>IsActiveMember</th>\n",
              "      <th>EstimatedSalary</th>\n",
              "      <th>Exited</th>\n",
              "      <th>Geography_Germany</th>\n",
              "      <th>Geography_Spain</th>\n",
              "      <th>Gender_Male</th>\n",
              "    </tr>\n",
              "  </thead>\n",
              "  <tbody>\n",
              "    <tr>\n",
              "      <td>0</td>\n",
              "      <td>619</td>\n",
              "      <td>42</td>\n",
              "      <td>2.0</td>\n",
              "      <td>0.00</td>\n",
              "      <td>1</td>\n",
              "      <td>1</td>\n",
              "      <td>1</td>\n",
              "      <td>101348.88</td>\n",
              "      <td>1</td>\n",
              "      <td>0</td>\n",
              "      <td>0</td>\n",
              "      <td>0</td>\n",
              "    </tr>\n",
              "    <tr>\n",
              "      <td>1</td>\n",
              "      <td>608</td>\n",
              "      <td>41</td>\n",
              "      <td>1.0</td>\n",
              "      <td>83807.86</td>\n",
              "      <td>1</td>\n",
              "      <td>0</td>\n",
              "      <td>1</td>\n",
              "      <td>112542.58</td>\n",
              "      <td>0</td>\n",
              "      <td>0</td>\n",
              "      <td>1</td>\n",
              "      <td>0</td>\n",
              "    </tr>\n",
              "    <tr>\n",
              "      <td>2</td>\n",
              "      <td>502</td>\n",
              "      <td>42</td>\n",
              "      <td>8.0</td>\n",
              "      <td>159660.80</td>\n",
              "      <td>3</td>\n",
              "      <td>1</td>\n",
              "      <td>0</td>\n",
              "      <td>113931.57</td>\n",
              "      <td>1</td>\n",
              "      <td>0</td>\n",
              "      <td>0</td>\n",
              "      <td>0</td>\n",
              "    </tr>\n",
              "    <tr>\n",
              "      <td>3</td>\n",
              "      <td>699</td>\n",
              "      <td>39</td>\n",
              "      <td>1.0</td>\n",
              "      <td>0.00</td>\n",
              "      <td>2</td>\n",
              "      <td>0</td>\n",
              "      <td>0</td>\n",
              "      <td>93826.63</td>\n",
              "      <td>0</td>\n",
              "      <td>0</td>\n",
              "      <td>0</td>\n",
              "      <td>0</td>\n",
              "    </tr>\n",
              "    <tr>\n",
              "      <td>4</td>\n",
              "      <td>850</td>\n",
              "      <td>43</td>\n",
              "      <td>2.0</td>\n",
              "      <td>125510.82</td>\n",
              "      <td>1</td>\n",
              "      <td>1</td>\n",
              "      <td>1</td>\n",
              "      <td>79084.10</td>\n",
              "      <td>0</td>\n",
              "      <td>0</td>\n",
              "      <td>1</td>\n",
              "      <td>0</td>\n",
              "    </tr>\n",
              "  </tbody>\n",
              "</table>\n",
              "</div>"
            ],
            "text/plain": [
              "   CreditScore  Age  Tenure    Balance  NumOfProducts  HasCrCard  \\\n",
              "0          619   42     2.0       0.00              1          1   \n",
              "1          608   41     1.0   83807.86              1          0   \n",
              "2          502   42     8.0  159660.80              3          1   \n",
              "3          699   39     1.0       0.00              2          0   \n",
              "4          850   43     2.0  125510.82              1          1   \n",
              "\n",
              "   IsActiveMember  EstimatedSalary  Exited  Geography_Germany  \\\n",
              "0               1        101348.88       1                  0   \n",
              "1               1        112542.58       0                  0   \n",
              "2               0        113931.57       1                  0   \n",
              "3               0         93826.63       0                  0   \n",
              "4               1         79084.10       0                  0   \n",
              "\n",
              "   Geography_Spain  Gender_Male  \n",
              "0                0            0  \n",
              "1                1            0  \n",
              "2                0            0  \n",
              "3                0            0  \n",
              "4                1            0  "
            ]
          },
          "execution_count": 3,
          "metadata": {},
          "output_type": "execute_result"
        }
      ]
    },
    {
      "cell_type": "markdown",
      "metadata": {
        "id": "NWKQb4t9c9je"
      },
      "source": [
        "### Промежуточный вывод\n",
        "- Удалены столбцы RowNumber, CustomerID, Surname так как эти столбцы не особо нужны для обучения\n",
        "- Пропуски в столбце Tenure были заполнены медианой, так как данный способ самый предпочтительный для обучения моделей\n",
        "- Категориальные признаки были преобразованны в численные при помощи OHE \n",
        "- Итоговый размер таблицы 10.000 строк на 12 колонок\n",
        "- целевой признак Exited -> модель классификации"
      ]
    },
    {
      "cell_type": "code",
      "metadata": {
        "id": "yHGu2PN9c9jh"
      },
      "source": [
        "from sklearn.model_selection import train_test_split\n",
        "from sklearn.preprocessing import StandardScaler\n",
        "\n",
        "train_data, test_data  = train_test_split(data_ohe, test_size = 1/5, random_state = 12345)\n",
        "\n",
        "target = train_data['Exited']   # столбец с целевым признаком\n",
        "features = train_data.drop('Exited', axis = 1) # стоблец с признаками \n",
        "\n",
        "train_target, valid_target, train_features, valid_features = train_test_split(target, features, test_size = 0.2, random_state = 12345)\n",
        "\n",
        "\n",
        "numeric = ['CreditScore', 'Age', 'Tenure', 'Balance', 'EstimatedSalary'] # числовые столбцы для масштабирования \n",
        "scaler = StandardScaler()  # Проводим процесс масштабирования \n",
        "scaler.fit(train_features[numeric])\n",
        "train_features[numeric] = scaler.transform(train_features[numeric])\n",
        "valid_features[numeric] = scaler.transform(valid_features[numeric])"
      ],
      "execution_count": null,
      "outputs": []
    },
    {
      "cell_type": "markdown",
      "metadata": {
        "id": "GNvBLFoXc9ji"
      },
      "source": [
        "### Промежуточный вывод\n",
        "- Данные были разделены на три выборки: обучающая, валидационная и тестовая (соотношение 3:1:1)\n",
        "- Количесвтенные признаки были промасштабированы "
      ]
    },
    {
      "cell_type": "markdown",
      "metadata": {
        "id": "dXOaFQ6Zc9ji"
      },
      "source": [
        "# 2. Исследование моделей"
      ]
    },
    {
      "cell_type": "code",
      "metadata": {
        "scrolled": false,
        "id": "XGUst0NCc9jj",
        "outputId": "fe9063cb-ad1b-4dea-ae93-adaca095ae09"
      },
      "source": [
        "from sklearn.tree import DecisionTreeClassifier\n",
        "from sklearn.metrics import f1_score, recall_score, precision_score, roc_auc_score\n",
        "\n",
        "# Изучаем модель Tree\n",
        "\n",
        "\n",
        "depths = []\n",
        "f1_metrics = []\n",
        "roc_auc = []\n",
        "for depth in range(2,16,1):\n",
        "    model = DecisionTreeClassifier( random_state = 12345, max_depth = depth)\n",
        "    model.fit(train_features, train_target)\n",
        "    predicted = model.predict(valid_features)\n",
        "    predicted_proba = model.predict_proba(valid_features)\n",
        "    probabilities_one_valid = predicted_proba[:, 1]\n",
        "    f1 = f1_score(valid_target,predicted)\n",
        "    depths.append(depth)\n",
        "    f1_metrics.append(f1)\n",
        "    roc = roc_auc_score(valid_target, probabilities_one_valid)\n",
        "    roc_auc.append(roc)\n",
        "    \n",
        "tree_metrics = pd.DataFrame(\n",
        "                            {'depth' : depths,\n",
        "                             'f1_score' : f1_metrics,\n",
        "                             'roc_auc' : roc_auc\n",
        "                            })\n",
        "\n",
        "print('Лучшая глубина для Tree модели равна 5')\n",
        "tree_metrics"
      ],
      "execution_count": null,
      "outputs": [
        {
          "name": "stdout",
          "output_type": "stream",
          "text": [
            "Лучшая глубина для Tree модели равна 5\n"
          ]
        },
        {
          "data": {
            "text/html": [
              "<div>\n",
              "<style scoped>\n",
              "    .dataframe tbody tr th:only-of-type {\n",
              "        vertical-align: middle;\n",
              "    }\n",
              "\n",
              "    .dataframe tbody tr th {\n",
              "        vertical-align: top;\n",
              "    }\n",
              "\n",
              "    .dataframe thead th {\n",
              "        text-align: right;\n",
              "    }\n",
              "</style>\n",
              "<table border=\"1\" class=\"dataframe\">\n",
              "  <thead>\n",
              "    <tr style=\"text-align: right;\">\n",
              "      <th></th>\n",
              "      <th>depth</th>\n",
              "      <th>f1_score</th>\n",
              "      <th>roc_auc</th>\n",
              "    </tr>\n",
              "  </thead>\n",
              "  <tbody>\n",
              "    <tr>\n",
              "      <td>0</td>\n",
              "      <td>2</td>\n",
              "      <td>0.508539</td>\n",
              "      <td>0.745583</td>\n",
              "    </tr>\n",
              "    <tr>\n",
              "      <td>1</td>\n",
              "      <td>3</td>\n",
              "      <td>0.392157</td>\n",
              "      <td>0.798654</td>\n",
              "    </tr>\n",
              "    <tr>\n",
              "      <td>2</td>\n",
              "      <td>4</td>\n",
              "      <td>0.436451</td>\n",
              "      <td>0.812114</td>\n",
              "    </tr>\n",
              "    <tr>\n",
              "      <td>3</td>\n",
              "      <td>5</td>\n",
              "      <td>0.564299</td>\n",
              "      <td>0.830183</td>\n",
              "    </tr>\n",
              "    <tr>\n",
              "      <td>4</td>\n",
              "      <td>6</td>\n",
              "      <td>0.517699</td>\n",
              "      <td>0.813269</td>\n",
              "    </tr>\n",
              "    <tr>\n",
              "      <td>5</td>\n",
              "      <td>7</td>\n",
              "      <td>0.553971</td>\n",
              "      <td>0.812030</td>\n",
              "    </tr>\n",
              "    <tr>\n",
              "      <td>6</td>\n",
              "      <td>8</td>\n",
              "      <td>0.525896</td>\n",
              "      <td>0.788471</td>\n",
              "    </tr>\n",
              "    <tr>\n",
              "      <td>7</td>\n",
              "      <td>9</td>\n",
              "      <td>0.522593</td>\n",
              "      <td>0.755204</td>\n",
              "    </tr>\n",
              "    <tr>\n",
              "      <td>8</td>\n",
              "      <td>10</td>\n",
              "      <td>0.529981</td>\n",
              "      <td>0.740037</td>\n",
              "    </tr>\n",
              "    <tr>\n",
              "      <td>9</td>\n",
              "      <td>11</td>\n",
              "      <td>0.529851</td>\n",
              "      <td>0.723810</td>\n",
              "    </tr>\n",
              "    <tr>\n",
              "      <td>10</td>\n",
              "      <td>12</td>\n",
              "      <td>0.509225</td>\n",
              "      <td>0.700454</td>\n",
              "    </tr>\n",
              "    <tr>\n",
              "      <td>11</td>\n",
              "      <td>13</td>\n",
              "      <td>0.489051</td>\n",
              "      <td>0.694629</td>\n",
              "    </tr>\n",
              "    <tr>\n",
              "      <td>12</td>\n",
              "      <td>14</td>\n",
              "      <td>0.473310</td>\n",
              "      <td>0.678357</td>\n",
              "    </tr>\n",
              "    <tr>\n",
              "      <td>13</td>\n",
              "      <td>15</td>\n",
              "      <td>0.470383</td>\n",
              "      <td>0.692998</td>\n",
              "    </tr>\n",
              "  </tbody>\n",
              "</table>\n",
              "</div>"
            ],
            "text/plain": [
              "    depth  f1_score   roc_auc\n",
              "0       2  0.508539  0.745583\n",
              "1       3  0.392157  0.798654\n",
              "2       4  0.436451  0.812114\n",
              "3       5  0.564299  0.830183\n",
              "4       6  0.517699  0.813269\n",
              "5       7  0.553971  0.812030\n",
              "6       8  0.525896  0.788471\n",
              "7       9  0.522593  0.755204\n",
              "8      10  0.529981  0.740037\n",
              "9      11  0.529851  0.723810\n",
              "10     12  0.509225  0.700454\n",
              "11     13  0.489051  0.694629\n",
              "12     14  0.473310  0.678357\n",
              "13     15  0.470383  0.692998"
            ]
          },
          "execution_count": 9,
          "metadata": {},
          "output_type": "execute_result"
        }
      ]
    },
    {
      "cell_type": "code",
      "metadata": {
        "id": "eP0R_RM1c9jj",
        "outputId": "ba5072e0-c427-4f8d-8df4-7320a5d8fa39"
      },
      "source": [
        "from sklearn.ensemble import RandomForestClassifier\n",
        "\n",
        "# Изучаем модель Random Forest\n",
        "\n",
        "\n",
        "depths = []\n",
        "f1_metrics = []\n",
        "roc_auc = []\n",
        "\n",
        "for depth in range(2,16,1):\n",
        "    model = RandomForestClassifier(n_estimators= 100, max_depth=depth, random_state=12345)\n",
        "    model.fit(train_features, train_target)\n",
        "    predicted = model.predict(valid_features)\n",
        "    predicted_proba = model.predict_proba(valid_features)\n",
        "    probabilities_one_valid = predicted_proba[:, 1]\n",
        "    f1 = f1_score(valid_target,predicted)\n",
        "    depths.append(depth)\n",
        "    f1_metrics.append(f1)\n",
        "    roc = roc_auc_score(valid_target, probabilities_one_valid)\n",
        "    roc_auc.append(roc)\n",
        "\n",
        "forest_metrics = pd.DataFrame(\n",
        "                            {'depth' : depths,\n",
        "                             'f1_score' : f1_metrics,\n",
        "                             'roc_auc' : roc_auc\n",
        "                            })\n",
        "\n",
        "\n",
        "print('Лучшая глубина для Forest модели равна 12')\n",
        "forest_metrics"
      ],
      "execution_count": null,
      "outputs": [
        {
          "name": "stdout",
          "output_type": "stream",
          "text": [
            "Лучшая глубина для Forest модели равна 12\n"
          ]
        },
        {
          "data": {
            "text/html": [
              "<div>\n",
              "<style scoped>\n",
              "    .dataframe tbody tr th:only-of-type {\n",
              "        vertical-align: middle;\n",
              "    }\n",
              "\n",
              "    .dataframe tbody tr th {\n",
              "        vertical-align: top;\n",
              "    }\n",
              "\n",
              "    .dataframe thead th {\n",
              "        text-align: right;\n",
              "    }\n",
              "</style>\n",
              "<table border=\"1\" class=\"dataframe\">\n",
              "  <thead>\n",
              "    <tr style=\"text-align: right;\">\n",
              "      <th></th>\n",
              "      <th>depth</th>\n",
              "      <th>f1_score</th>\n",
              "      <th>roc_auc</th>\n",
              "    </tr>\n",
              "  </thead>\n",
              "  <tbody>\n",
              "    <tr>\n",
              "      <td>0</td>\n",
              "      <td>2</td>\n",
              "      <td>0.169184</td>\n",
              "      <td>0.809008</td>\n",
              "    </tr>\n",
              "    <tr>\n",
              "      <td>1</td>\n",
              "      <td>3</td>\n",
              "      <td>0.288889</td>\n",
              "      <td>0.822085</td>\n",
              "    </tr>\n",
              "    <tr>\n",
              "      <td>2</td>\n",
              "      <td>4</td>\n",
              "      <td>0.377261</td>\n",
              "      <td>0.834581</td>\n",
              "    </tr>\n",
              "    <tr>\n",
              "      <td>3</td>\n",
              "      <td>5</td>\n",
              "      <td>0.467470</td>\n",
              "      <td>0.845859</td>\n",
              "    </tr>\n",
              "    <tr>\n",
              "      <td>4</td>\n",
              "      <td>6</td>\n",
              "      <td>0.531868</td>\n",
              "      <td>0.849559</td>\n",
              "    </tr>\n",
              "    <tr>\n",
              "      <td>5</td>\n",
              "      <td>7</td>\n",
              "      <td>0.535332</td>\n",
              "      <td>0.854834</td>\n",
              "    </tr>\n",
              "    <tr>\n",
              "      <td>6</td>\n",
              "      <td>8</td>\n",
              "      <td>0.547771</td>\n",
              "      <td>0.857203</td>\n",
              "    </tr>\n",
              "    <tr>\n",
              "      <td>7</td>\n",
              "      <td>9</td>\n",
              "      <td>0.561331</td>\n",
              "      <td>0.857674</td>\n",
              "    </tr>\n",
              "    <tr>\n",
              "      <td>8</td>\n",
              "      <td>10</td>\n",
              "      <td>0.554167</td>\n",
              "      <td>0.855340</td>\n",
              "    </tr>\n",
              "    <tr>\n",
              "      <td>9</td>\n",
              "      <td>11</td>\n",
              "      <td>0.559671</td>\n",
              "      <td>0.855661</td>\n",
              "    </tr>\n",
              "    <tr>\n",
              "      <td>10</td>\n",
              "      <td>12</td>\n",
              "      <td>0.567288</td>\n",
              "      <td>0.854847</td>\n",
              "    </tr>\n",
              "    <tr>\n",
              "      <td>11</td>\n",
              "      <td>13</td>\n",
              "      <td>0.556017</td>\n",
              "      <td>0.854409</td>\n",
              "    </tr>\n",
              "    <tr>\n",
              "      <td>12</td>\n",
              "      <td>14</td>\n",
              "      <td>0.560000</td>\n",
              "      <td>0.852754</td>\n",
              "    </tr>\n",
              "    <tr>\n",
              "      <td>13</td>\n",
              "      <td>15</td>\n",
              "      <td>0.562753</td>\n",
              "      <td>0.850855</td>\n",
              "    </tr>\n",
              "  </tbody>\n",
              "</table>\n",
              "</div>"
            ],
            "text/plain": [
              "    depth  f1_score   roc_auc\n",
              "0       2  0.169184  0.809008\n",
              "1       3  0.288889  0.822085\n",
              "2       4  0.377261  0.834581\n",
              "3       5  0.467470  0.845859\n",
              "4       6  0.531868  0.849559\n",
              "5       7  0.535332  0.854834\n",
              "6       8  0.547771  0.857203\n",
              "7       9  0.561331  0.857674\n",
              "8      10  0.554167  0.855340\n",
              "9      11  0.559671  0.855661\n",
              "10     12  0.567288  0.854847\n",
              "11     13  0.556017  0.854409\n",
              "12     14  0.560000  0.852754\n",
              "13     15  0.562753  0.850855"
            ]
          },
          "execution_count": 10,
          "metadata": {},
          "output_type": "execute_result"
        }
      ]
    },
    {
      "cell_type": "code",
      "metadata": {
        "id": "e1DnE6iAc9jk",
        "outputId": "9e114e9f-cf41-4ad3-a129-25758d6a8ba2"
      },
      "source": [
        "from sklearn.linear_model import LogisticRegression\n",
        "\n",
        "# Изучаем модель Логической регрессии \n",
        "\n",
        "model = LogisticRegression()\n",
        "model.fit(train_features, train_target)\n",
        "predicted = model.predict(valid_features)\n",
        "predicted_proba = model.predict_proba(valid_features)\n",
        "probabilities_one_valid = predicted_proba[:, 1]\n",
        "print('F1- метрика: ', f1_score(valid_target,predicted), 'Roc_auc:', roc_auc_score(valid_target, probabilities_one_valid))"
      ],
      "execution_count": null,
      "outputs": [
        {
          "name": "stdout",
          "output_type": "stream",
          "text": [
            "F1- метрика:  0.3145539906103286 Roc_auc: 0.763317735011743\n"
          ]
        },
        {
          "name": "stderr",
          "output_type": "stream",
          "text": [
            "/opt/conda/lib/python3.7/site-packages/sklearn/linear_model/logistic.py:432: FutureWarning: Default solver will be changed to 'lbfgs' in 0.22. Specify a solver to silence this warning.\n",
            "  FutureWarning)\n"
          ]
        }
      ]
    },
    {
      "cell_type": "markdown",
      "metadata": {
        "id": "LCL0KqfIc9jk"
      },
      "source": [
        "### Промежуточный вывод:\n",
        "\n",
        "- Были построены модели древа, случайного леса и логической регрессии \n",
        "- f1 мтерики соответственно: 0.564, 0.567 и  0.315\n",
        "- roc_auc метрики соответственно: 0.83, 0.85 и 0.76\n",
        "- Лушчая модель - модель случайного леса с параметром максимальной глубины 12"
      ]
    },
    {
      "cell_type": "markdown",
      "metadata": {
        "id": "Bt24fvpcc9jl"
      },
      "source": [
        "# 3. Борьба с дисбалансом"
      ]
    },
    {
      "cell_type": "code",
      "metadata": {
        "id": "IwmSOqeFc9jl",
        "outputId": "51da57aa-d712-483e-dba6-d9f7fa550bbc"
      },
      "source": [
        "from sklearn.utils import shuffle\n",
        "\n",
        "def upsample(features, target, repeat):\n",
        "    features_zeros = features[target == 0]\n",
        "    features_ones = features[target == 1]\n",
        "    target_zeros = target[target == 0]\n",
        "    target_ones = target[target == 1]\n",
        "\n",
        "    features_upsampled = pd.concat([features_zeros] + [features_ones] * repeat)\n",
        "    target_upsampled = pd.concat([target_zeros] + [target_ones] * repeat)\n",
        "    \n",
        "    features_upsampled, target_upsampled = shuffle(features_upsampled, target_upsampled, random_state=12345)\n",
        "    \n",
        "    return features_upsampled, target_upsampled\n",
        "\n",
        "features_upsampled, target_upsampled = upsample(train_features, train_target, 4)\n",
        "\n",
        "model = DecisionTreeClassifier( random_state = 12345, max_depth = 5)\n",
        "model.fit(features_upsampled, target_upsampled)\n",
        "predicted = model.predict(valid_features)\n",
        "print('Древо F1- метрика: ', f1_score(valid_target,predicted)) \n",
        "\n",
        "\n",
        "model = RandomForestClassifier(n_estimators= 100, max_depth= 12, random_state=12345)\n",
        "model.fit(features_upsampled, target_upsampled)\n",
        "predicted = model.predict(valid_features)\n",
        "print('Случайный лес  F1- метрика: ', f1_score(valid_target,predicted))\n",
        "\n",
        "model = LogisticRegression()\n",
        "model.fit(features_upsampled, target_upsampled)\n",
        "predicted = model.predict(valid_features)\n",
        "print('Логическая регрессия F1- метрика: ', f1_score(valid_target,predicted))"
      ],
      "execution_count": null,
      "outputs": [
        {
          "name": "stdout",
          "output_type": "stream",
          "text": [
            "Древо F1- метрика:  0.5445544554455446\n",
            "Случайный лес  F1- метрика:  0.598159509202454\n",
            "Логическая регрессия F1- метрика:  0.4608501118568233\n"
          ]
        },
        {
          "name": "stderr",
          "output_type": "stream",
          "text": [
            "/opt/conda/lib/python3.7/site-packages/sklearn/linear_model/logistic.py:432: FutureWarning: Default solver will be changed to 'lbfgs' in 0.22. Specify a solver to silence this warning.\n",
            "  FutureWarning)\n"
          ]
        }
      ]
    },
    {
      "cell_type": "code",
      "metadata": {
        "scrolled": true,
        "id": "Mbf3S-rOc9jl",
        "outputId": "876eb19b-14a7-4f77-a5ff-e386af55090d"
      },
      "source": [
        "def downsample(features, target, fraction):\n",
        "    features_zeros = features[target == 0]\n",
        "    features_ones = features[target == 1]\n",
        "    target_zeros = target[target == 0]\n",
        "    target_ones = target[target == 1]\n",
        "\n",
        "    features_downsampled = pd.concat(\n",
        "        [features_zeros.sample(frac=fraction, random_state=12345)] + [features_ones])\n",
        "    target_downsampled = pd.concat(\n",
        "        [target_zeros.sample(frac=fraction, random_state=12345)] + [target_ones])\n",
        "    \n",
        "    features_downsampled, target_downsampled = shuffle(\n",
        "        features_downsampled, target_downsampled, random_state=12345)\n",
        "    \n",
        "    return features_downsampled, target_downsampled\n",
        "\n",
        "features_downsample, target_downsample = downsample(train_features, train_target, 0.25)\n",
        "\n",
        "model = DecisionTreeClassifier( random_state = 12345, max_depth = 5)\n",
        "model.fit(features_downsample, target_downsample)\n",
        "predicted = model.predict(valid_features)\n",
        "print('Древо F1- метрика: ', f1_score(valid_target,predicted)) \n",
        "\n",
        "\n",
        "model = RandomForestClassifier(n_estimators= 100, max_depth= 12, random_state=12345)\n",
        "model.fit(features_downsample, target_downsample)\n",
        "predicted = model.predict(valid_features)\n",
        "print('Случайный лес  F1- метрика: ', f1_score(valid_target,predicted))\n",
        "\n",
        "model = LogisticRegression()\n",
        "model.fit(features_downsample, target_downsample)\n",
        "predicted = model.predict(valid_features)\n",
        "print('Логическая регрессия F1- метрика: ', f1_score(valid_target,predicted))\n"
      ],
      "execution_count": null,
      "outputs": [
        {
          "name": "stdout",
          "output_type": "stream",
          "text": [
            "Древо F1- метрика:  0.5176715176715176\n",
            "Случайный лес  F1- метрика:  0.5499383477188656\n",
            "Логическая регрессия F1- метрика:  0.4754464285714286\n"
          ]
        },
        {
          "name": "stderr",
          "output_type": "stream",
          "text": [
            "/opt/conda/lib/python3.7/site-packages/sklearn/linear_model/logistic.py:432: FutureWarning: Default solver will be changed to 'lbfgs' in 0.22. Specify a solver to silence this warning.\n",
            "  FutureWarning)\n"
          ]
        }
      ]
    },
    {
      "cell_type": "markdown",
      "metadata": {
        "id": "LhP-8xIZc9jm"
      },
      "source": [
        "### Промежуточный итог:\n",
        "\n",
        "- был произведен баланс классов двумя способами \n",
        "- способ при котором происходит увличение положительного класса показал результаты чуть лучше \n",
        "- балансировка классов в целом положительно повлияло на качество модели"
      ]
    },
    {
      "cell_type": "code",
      "metadata": {
        "id": "uJdsKIXtc9jn",
        "outputId": "4efcda95-3b48-4059-f1df-ec48858cfc19"
      },
      "source": [
        "# комплексны анализ выбранной модели\n",
        "model = RandomForestClassifier(n_estimators= 100, max_depth= 12, random_state=12345)\n",
        "model.fit(features_upsampled, target_upsampled)\n",
        "predicted = model.predict(valid_features)\n",
        "predicted_proba = model.predict_proba(valid_features)\n",
        "probabilities_one_valid = predicted_proba[:, 1]\n",
        "print('F1- метрика: ', f1_score(valid_target,predicted), 'Roc_auc:', roc_auc_score(valid_target, probabilities_one_valid))\n",
        "print('Полнота:', recall_score(valid_target,predicted),'Точность:', precision_score(valid_target,predicted))\n",
        "\n",
        "\n",
        "\n",
        "fpr, tpr, thresholds = roc_curve(valid_target, probabilities_one_valid)\n",
        "plt.figure()\n",
        "plt.plot(fpr,tpr, linestyle='-')\n",
        "plt.plot([0, 1], [0, 1], linestyle='--')\n",
        "plt.xlim = [0,1]\n",
        "plt.ylim = [0,1]\n",
        "plt.xlabel('False Positive Rate')\n",
        "plt.ylabel('True Positive Rate')\n",
        "plt.title('ROC-кривая')\n",
        "plt.show()"
      ],
      "execution_count": null,
      "outputs": [
        {
          "name": "stdout",
          "output_type": "stream",
          "text": [
            "F1- метрика:  0.598159509202454 Roc_auc: 0.8529482863475245\n",
            "Полнота: 0.6435643564356436 Точность: 0.5587392550143266\n"
          ]
        },
        {
          "data": {
            "image/png": "[encoded data removed]",
            "text/plain": [
              "<Figure size 432x288 with 1 Axes>"
            ]
          },
          "metadata": {
            "needs_background": "light"
          },
          "output_type": "display_data"
        }
      ]
    },
    {
      "cell_type": "markdown",
      "metadata": {
        "id": "NvXAxY3fc9jn"
      },
      "source": [
        "### Промежуточный итог \n",
        "\n",
        "Модель далека от идеала, но по основному требованию проходит. F1 метрика модели > 0.59\n"
      ]
    },
    {
      "cell_type": "markdown",
      "metadata": {
        "id": "1MLzMJKgc9jo"
      },
      "source": [
        "# 4. Тестирование модели"
      ]
    },
    {
      "cell_type": "code",
      "metadata": {
        "id": "d6crLshuc9jo",
        "outputId": "25fe8a21-87df-476a-b350-9b4d17571f31"
      },
      "source": [
        "from sklearn.metrics import roc_curve\n",
        "import matplotlib.pyplot as plt\n",
        "\n",
        "test_features = test_data.drop('Exited', axis = 1)\n",
        "test_target = test_data['Exited']\n",
        "\n",
        "test_features[numeric] = scaler.transform(test_features[numeric])\n",
        "\n",
        "model = RandomForestClassifier(n_estimators= 100, max_depth=12, random_state=12345)\n",
        "model.fit(features_upsampled, target_upsampled)\n",
        "predicted = model.predict(test_features)\n",
        "predicted_proba = model.predict_proba(test_features)\n",
        "probabilities_one_valid = predicted_proba[:, 1]\n",
        "print('F1- метрика: ', f1_score(test_target,predicted), 'Roc_auc:', roc_auc_score(test_target, probabilities_one_valid))"
      ],
      "execution_count": null,
      "outputs": [
        {
          "name": "stdout",
          "output_type": "stream",
          "text": [
            "F1- метрика:  0.636986301369863 Roc_auc: 0.8614128047809121\n"
          ]
        }
      ]
    },
    {
      "cell_type": "markdown",
      "metadata": {
        "id": "RydqAs1xc9jp"
      },
      "source": [
        "### Вывод \n",
        "- Были построены модели трех видов : древа, случайного леса и логической регрессии \n",
        "- Была произведена балансировка классов с использованием двух разных методов ( увеличение положительного класса, уменьшение отрицательного класса)\n",
        "- На основе показателя f1-метрика и roc-auc была выбрана модель случайного леса, метрики соотвественно:  0.60 и 0.85\n",
        "- Модель была протестированна на тестовой выборке, результаты f1 метриик и roc-auc: 0.64 и  0.86 (при минимальном треб f1 метрики в 0.59)"
      ]
    },
    {
      "cell_type": "markdown",
      "metadata": {
        "id": "iCXuIMYTc9jr"
      },
      "source": [
        "# Чек-лист готовности проекта"
      ]
    },
    {
      "cell_type": "markdown",
      "metadata": {
        "id": "y-fVKS5rc9js"
      },
      "source": [
        "Поставьте 'x' в выполненных пунктах. Далее нажмите Shift+Enter."
      ]
    },
    {
      "cell_type": "markdown",
      "metadata": {
        "id": "0XsmGR3Cc9js"
      },
      "source": [
        "- [x]  Jupyter Notebook открыт\n",
        "- [x]  Весь код выполняется без ошибок\n",
        "- [x]  Ячейки с кодом расположены в порядке исполнения\n",
        "- [x]  Выполнен шаг 1: данные подготовлены\n",
        "- [x]  Выполнен шаг 2: задача исследована\n",
        "    - [x]  Исследован баланс классов\n",
        "    - [x]  Изучены модели без учёта дисбаланса\n",
        "    - [x]  Написаны выводы по результатам исследования\n",
        "- [x]  Выполнен шаг 3: учтён дисбаланс\n",
        "    - [x]  Применено несколько способов борьбы с дисбалансом\n",
        "    - [x]  Написаны выводы по результатам исследования\n",
        "- [x]  Выполнен шаг 4: проведено тестирование\n",
        "- [x]  Удалось достичь *F1*-меры не менее 0.59\n",
        "- [x]  Исследована метрика *AUC-ROC*"
      ]
    }
  ]
}